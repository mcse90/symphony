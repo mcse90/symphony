{
  "cells": [
    {
      "cell_type": "markdown",
      "metadata": {},
      "source": [
        "# 🎬 Vídeo → Desenho/Anime no Google Colab\n",
        "\n",
        "Este notebook oferece **duas rotas**:\n",
        "\n",
        "1. **Cartoon Rápido (OpenCV)** — efeito de bordas + cores chapadas (leve, CPU).\n",
        "2. **AnimeGANv2** — estilo anime mais bonito (pode ser mais lento, usa IA).\n",
        "\n",
        "## Como usar\n",
        "1. Execute a célula **Setup Geral**.\n",
        "2. Em **Upload do vídeo**, envie seu arquivo `.mp4`.\n",
        "3. Escolha **Cartoon Rápido** _ou_ **AnimeGANv2** e execute as células da rota escolhida.\n",
        "4. Baixe o resultado ao final.\n",
        "\n",
        "> Dica: Se der erro ao baixar pesos do AnimeGANv2, reexecute a célula ou siga o link do repo para obter os pesos atualizados.\n"
      ]
    },
    {
      "cell_type": "code",
      "metadata": {},
      "source": [
        "# === Setup Geral ===\n",
        "!pip -q install moviepy==1.0.3 opencv-python==4.10.0.84\n",
        "import os, subprocess, shlex\n",
        "os.makedirs('work/frames_in', exist_ok=True)\n",
        "os.makedirs('work/frames_out', exist_ok=True)\n",
        "print('Ambiente pronto.')\n"
      ],
      "execution_count": 0,
      "outputs": []
    },
    {
      "cell_type": "code",
      "metadata": {},
      "source": [
        "# === Upload do vídeo ===\n",
        "from google.colab import files\n",
        "up = files.upload()\n",
        "input_name = list(up.keys())[0]\n",
        "print('Arquivo recebido:', input_name)\n",
        "\n",
        "# Extrair áudio original (para recolocar depois)\n",
        "audio_path = 'work/audio.aac'\n",
        "subprocess.run(shlex.split(f'ffmpeg -y -i \"{input_name}\" -vn -acodec aac \"{audio_path}\"'))\n",
        "\n",
        "# Extrair frames\n",
        "subprocess.run(shlex.split(f'ffmpeg -y -i \"{input_name}\" work/frames_in/%06d.png'))\n",
        "print('Frames extraídos em work/frames_in')\n"
      ],
      "execution_count": 0,
      "outputs": []
    },
    {
      "cell_type": "markdown",
      "metadata": {},
      "source": [
        "## 🟦 Rota 1 — Cartoon Rápido (OpenCV)\n",
        "Aplica um filtro de bordas + cores chapadas em cada frame e recompõe o vídeo.\n"
      ]
    },
    {
      "cell_type": "code",
      "metadata": {},
      "source": [
        "import cv2, numpy as np, glob\n",
        "\n",
        "def cartoonize(img):\n",
        "    color = cv2.bilateralFilter(img, d=9, sigmaColor=75, sigmaSpace=75)\n",
        "    gray  = cv2.cvtColor(img, cv2.COLOR_BGR2GRAY)\n",
        "    gray  = cv2.medianBlur(gray, 7)\n",
        "    edges = cv2.adaptiveThreshold(gray, 255, cv2.ADAPTIVE_THRESH_MEAN_C,\n",
        "                                  cv2.THRESH_BINARY, 9, 2)\n",
        "    edges = cv2.cvtColor(edges, cv2.COLOR_GRAY2BGR)\n",
        "    cartoon = cv2.bitwise_and(color, edges)\n",
        "    return cartoon\n",
        "\n",
        "in_paths = sorted(glob.glob('work/frames_in/*.png'))\n",
        "os.makedirs('work/frames_out', exist_ok=True)\n",
        "\n",
        "for i, p in enumerate(in_paths):\n",
        "    img = cv2.imread(p)\n",
        "    out = cartoonize(img)\n",
        "    cv2.imwrite(f'work/frames_out/{i:06d}.png', out)\n",
        "    if i % 50 == 0: print('Processados:', i)\n",
        "print('Cartoonização concluída.')\n"
      ],
      "execution_count": 0,
      "outputs": []
    },
    {
      "cell_type": "code",
      "metadata": {},
      "source": [
        "# Recriar vídeo + recolocar áudio\n",
        "subprocess.run(shlex.split('ffmpeg -y -framerate 30 -i work/frames_out/%06d.png -c:v libx264 -pix_fmt yuv420p work/out_silent.mp4'))\n",
        "subprocess.run(shlex.split('ffmpeg -y -i work/out_silent.mp4 -i work/audio.aac -c:v copy -c:a aac -shortest video_cartoon_opencv.mp4'))\n",
        "print('Vídeo gerado: video_cartoon_opencv.mp4')\n"
      ],
      "execution_count": 0,
      "outputs": []
    },
    {
      "cell_type": "markdown",
      "metadata": {},
      "source": [
        "## 🟨 Rota 2 — AnimeGANv2 (Anime Look)\n",
        "Usa um modelo pré-treinado para transformar os frames em estilo anime.\n",
        "\n",
        "**Observações:**\n",
        "- Baixar pesos pode falhar às vezes. Se falhar, consulte o README do repositório e reenvie os pesos para a pasta `weights/` (o nome do arquivo `.h5`).\n"
      ]
    },
    {
      "cell_type": "code",
      "metadata": {},
      "source": [
        "# Instalar dependências e clonar o repositório\n",
        "!pip -q install tensorflow==2.15.0 opencv-python\n",
        "!git clone https://github.com/TachibanaYoshino/AnimeGANv2\n",
        "%cd AnimeGANv2\n",
        "os.makedirs('weights', exist_ok=True)\n",
        "\n",
        "print('⚠️ Se o download dos pesos falhar, faça upload manual para ./weights/')\n",
        "try:\n",
        "    # Exemplo de peso público (pode sair do ar). Substitua pelo link válido do README se necessário.\n",
        "    !pip -q install gdown\n",
        "    import gdown\n",
        "    gdown.download(id='1qR_8N6GK4PjzF5Kc-jsY0p1T3Ih7i9n_', output='weights/face_paint_512_v2.h5', quiet=True)\n",
        "except Exception as e:\n",
        "    print('Falha no download automático dos pesos:', e)\n",
        "\n",
        "%cd /content\n"
      ],
      "execution_count": 0,
      "outputs": []
    },
    {
      "cell_type": "code",
      "metadata": {},
      "source": [
        "# Processar frames com AnimeGANv2\n",
        "import glob, os\n",
        "in_paths = sorted(glob.glob('work/frames_in/*.png'))\n",
        "os.makedirs('work/frames_out', exist_ok=True)\n",
        "\n",
        "# O repositório inclui utilitários. Usaremos um script simples baseado em OpenCV + modelo TF.\n",
        "import tensorflow as tf\n",
        "from tensorflow.keras.models import load_model\n",
        "import cv2\n",
        "\n",
        "weights_path = '/content/AnimeGANv2/weights/face_paint_512_v2.h5'\n",
        "assert os.path.exists(weights_path), 'Peso não encontrado. Coloque o .h5 em AnimeGANv2/weights/'\n",
        "\n",
        "model = load_model(weights_path, compile=False)\n",
        "\n",
        "def infer_anime(img_bgr):\n",
        "    img_rgb = cv2.cvtColor(img_bgr, cv2.COLOR_BGR2RGB)\n",
        "    h, w = img_rgb.shape[:2]\n",
        "    inp = cv2.resize(img_rgb, (512, 512))\n",
        "    inp = inp.astype('float32')/255.0\n",
        "    inp = inp[None, ...]\n",
        "    out = model.predict(inp, verbose=0)[0]\n",
        "    out = (out*255.0).clip(0,255).astype('uint8')\n",
        "    out = cv2.resize(out, (w, h))\n",
        "    out_bgr = cv2.cvtColor(out, cv2.COLOR_RGB2BGR)\n",
        "    return out_bgr\n",
        "\n",
        "for i, p in enumerate(in_paths):\n",
        "    img = cv2.imread(p)\n",
        "    out = infer_anime(img)\n",
        "    cv2.imwrite(f'work/frames_out/{i:06d}.png', out)\n",
        "    if i % 20 == 0: print('Frames AnimeGANv2:', i)\n",
        "print('AnimeGANv2 concluído.')\n"
      ],
      "execution_count": 0,
      "outputs": []
    },
    {
      "cell_type": "code",
      "metadata": {},
      "source": [
        "# Recriar vídeo + recolocar áudio (AnimeGANv2)\n",
        "subprocess.run(shlex.split('ffmpeg -y -framerate 30 -i work/frames_out/%06d.png -c:v libx264 -pix_fmt yuv420p work/out_silent.mp4'))\n",
        "subprocess.run(shlex.split('ffmpeg -y -i work/out_silent.mp4 -i work/audio.aac -c:v copy -c:a aac -shortest video_cartoon_animeganv2.mp4'))\n",
        "print('Vídeo gerado: video_cartoon_animeganv2.mp4')\n"
      ],
      "execution_count": 0,
      "outputs": []
    },
    {
      "cell_type": "markdown",
      "metadata": {},
      "source": [
        "## ⬇️ Download\n",
        "Execute a célula abaixo para baixar o(s) arquivo(s) gerado(s).\n"
      ]
    },
    {
      "cell_type": "code",
      "metadata": {},
      "source": [
        "from google.colab import files\n",
        "for f in ['video_cartoon_opencv.mp4', 'video_cartoon_animeganv2.mp4']:\n",
        "    if os.path.exists(f):\n",
        "        files.download(f)\n",
        "print('Concluído. Se não aparecer, use a aba Files à esquerda e clique com o botão direito > Download.')\n"
      ],
      "execution_count": 0,
      "outputs": []
    }
  ],
  "metadata": {
    "kernelspec": {
      "display_name": "Python 3",
      "language": "python",
      "name": "python3"
    },
    "language_info": {
      "name": "python",
      "version": "3.x"
    }
  },
  "nbformat": 4,
  "nbformat_minor": 5
}